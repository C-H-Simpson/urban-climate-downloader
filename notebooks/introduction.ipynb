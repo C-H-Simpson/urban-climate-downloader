{
 "cells": [
  {
   "cell_type": "markdown",
   "metadata": {},
   "source": [
    "## JASMIN \n",
    "\n",
    "Data (e.g. climate model, ERA-Interim) lives here. You will need to apply for access to:\n",
    "* JASMIN login (https://accounts.jasmin.ac.uk/services/login_services/jasmin-login/)\n",
    "* BAS group workspace (https://accounts.jasmin.ac.uk/services/group_workspaces/bas_climate/)\n",
    "\n",
    "## Data cleaning\n",
    "\n",
    "* Example code to download data from JASMIN + data cleaning\n",
    "https://github.com/risaueno/urban-climate-downloader\n",
    "  * --> `notebooks/get_cities.ipynb` (automated downloading and cleaning of grid-point data)\n",
    "  * --> `notebooks/data_cleaning.ipynb` (examples of how I load and clean data)\n",
    "  \n",
    "  \n",
    "* Accessing jupyter notebook on JASMIN from any network\n",
    "  * I like to set up SSH hopping from the terminal e.g.: \n",
    "`ssh -A -Y -L 8888:localhost:8890 jasmin-login1.ceda.ac.uk -t ssh -Y -L 8890:localhost:8891 jasmin-sci1.ceda.ac.uk`\n",
    "  * This means if you open a jupyter notebook at port 8891 on jasmin-sci1 (by running `jupyter notebook --port=8891`), you can access it from your local browser at `localhost:8888`, regardless of the network you're on.\n",
    "\n",
    "\n",
    "## Instructions\n",
    "* Create a new conda environment and activate it\n",
    "* `git clone https://github.com/risaueno/urban-climate-downloader`\n",
    "* cd into library and run `pip install -e .` (install dependencies)\n",
    "\n",
    "## Using Xarray"
   ]
  },
  {
   "cell_type": "code",
   "execution_count": null,
   "metadata": {},
   "outputs": [],
   "source": [
    "import xarray as xr \n",
    "path = '../data/riskindex/netcdf/max_temperature/'"
   ]
  },
  {
   "cell_type": "code",
   "execution_count": 2,
   "metadata": {},
   "outputs": [
    {
     "data": {
      "text/plain": [
       "<xarray.DataArray 'MX2T' (time: 13870)>\n",
       "array([273.09656, 273.35147, 283.5008 , ..., 280.2819 , 284.54987, 285.18195],\n",
       "      dtype=float32)\n",
       "Coordinates:\n",
       "    day_of_year  (time) int64 ...\n",
       "    surface      float32 ...\n",
       "    year         (time) int64 ...\n",
       "  * time         (time) datetime64[ns] 1980-01-01 1980-01-02 ... 2017-12-31\n",
       "    lon          float64 ...\n",
       "    lat          float64 ...\n",
       "Attributes:\n",
       "    long_name:     Maximum 2 metre temperature since previous post-processing\n",
       "    units:         K\n",
       "    cell_methods:  day_of_year: year: maximum\n",
       "    city:          London\n",
       "    rcp:           None\n",
       "    model_type:    era"
      ]
     },
     "execution_count": 2,
     "metadata": {},
     "output_type": "execute_result"
    }
   ],
   "source": [
    "# Load 'observed' temperature\n",
    "data_era = xr.open_dataarray(path + 'London_ERAI.nc')\n",
    "data_era"
   ]
  },
  {
   "cell_type": "code",
   "execution_count": 3,
   "metadata": {},
   "outputs": [
    {
     "data": {
      "text/plain": [
       "<xarray.DataArray (time: 25915)>\n",
       "array([283.577637, 280.271443, 279.143461, ..., 279.336669, 278.550096,\n",
       "       283.045349])\n",
       "Coordinates:\n",
       "  * time     (time) datetime64[ns] 1980-01-01 1980-01-02 ... 2050-12-31\n",
       "    lon      float64 ...\n",
       "    lat      float64 ...\n",
       "Attributes:\n",
       "    standard_name:  air_temperature\n",
       "    long_name:      Daily Maximum Near-Surface Air Temperature\n",
       "    units:          K\n",
       "    original_name:  mo: m01s03i236\n",
       "    cell_methods:   time: maximum\n",
       "    cell_measures:  area: areacella\n",
       "    city:           London\n",
       "    rcp:            rcp45\n",
       "    model_type:     gcm"
      ]
     },
     "execution_count": 3,
     "metadata": {},
     "output_type": "execute_result"
    }
   ],
   "source": [
    "# Load climate model temperature\n",
    "data_gcm = xr.open_dataarray(path + 'London_rcp45.nc')\n",
    "data_gcm"
   ]
  },
  {
   "cell_type": "markdown",
   "metadata": {},
   "source": [
    "## Converting to pandas dataframe"
   ]
  },
  {
   "cell_type": "code",
   "execution_count": 7,
   "metadata": {},
   "outputs": [
    {
     "data": {
      "text/html": [
       "<div>\n",
       "<style scoped>\n",
       "    .dataframe tbody tr th:only-of-type {\n",
       "        vertical-align: middle;\n",
       "    }\n",
       "\n",
       "    .dataframe tbody tr th {\n",
       "        vertical-align: top;\n",
       "    }\n",
       "\n",
       "    .dataframe thead th {\n",
       "        text-align: right;\n",
       "    }\n",
       "</style>\n",
       "<table border=\"1\" class=\"dataframe\">\n",
       "  <thead>\n",
       "    <tr style=\"text-align: right;\">\n",
       "      <th></th>\n",
       "      <th>data</th>\n",
       "    </tr>\n",
       "    <tr>\n",
       "      <th>time</th>\n",
       "      <th></th>\n",
       "    </tr>\n",
       "  </thead>\n",
       "  <tbody>\n",
       "    <tr>\n",
       "      <th>1980-01-01</th>\n",
       "      <td>273.096558</td>\n",
       "    </tr>\n",
       "    <tr>\n",
       "      <th>1980-01-02</th>\n",
       "      <td>273.351471</td>\n",
       "    </tr>\n",
       "    <tr>\n",
       "      <th>1980-01-03</th>\n",
       "      <td>283.500793</td>\n",
       "    </tr>\n",
       "    <tr>\n",
       "      <th>1980-01-04</th>\n",
       "      <td>283.673218</td>\n",
       "    </tr>\n",
       "    <tr>\n",
       "      <th>1980-01-05</th>\n",
       "      <td>279.352417</td>\n",
       "    </tr>\n",
       "  </tbody>\n",
       "</table>\n",
       "</div>"
      ],
      "text/plain": [
       "                  data\n",
       "time                  \n",
       "1980-01-01  273.096558\n",
       "1980-01-02  273.351471\n",
       "1980-01-03  283.500793\n",
       "1980-01-04  283.673218\n",
       "1980-01-05  279.352417"
      ]
     },
     "execution_count": 7,
     "metadata": {},
     "output_type": "execute_result"
    }
   ],
   "source": [
    "from downloader import dataprocessing\n",
    "# ERA-Interim\n",
    "df_era = dataprocessing.da_to_df(data_era)\n",
    "df_era.head()"
   ]
  },
  {
   "cell_type": "code",
   "execution_count": 6,
   "metadata": {},
   "outputs": [
    {
     "data": {
      "text/html": [
       "<div>\n",
       "<style scoped>\n",
       "    .dataframe tbody tr th:only-of-type {\n",
       "        vertical-align: middle;\n",
       "    }\n",
       "\n",
       "    .dataframe tbody tr th {\n",
       "        vertical-align: top;\n",
       "    }\n",
       "\n",
       "    .dataframe thead th {\n",
       "        text-align: right;\n",
       "    }\n",
       "</style>\n",
       "<table border=\"1\" class=\"dataframe\">\n",
       "  <thead>\n",
       "    <tr style=\"text-align: right;\">\n",
       "      <th></th>\n",
       "      <th>data</th>\n",
       "    </tr>\n",
       "    <tr>\n",
       "      <th>time</th>\n",
       "      <th></th>\n",
       "    </tr>\n",
       "  </thead>\n",
       "  <tbody>\n",
       "    <tr>\n",
       "      <th>1980-01-01</th>\n",
       "      <td>283.577637</td>\n",
       "    </tr>\n",
       "    <tr>\n",
       "      <th>1980-01-02</th>\n",
       "      <td>280.271443</td>\n",
       "    </tr>\n",
       "    <tr>\n",
       "      <th>1980-01-03</th>\n",
       "      <td>279.143461</td>\n",
       "    </tr>\n",
       "    <tr>\n",
       "      <th>1980-01-04</th>\n",
       "      <td>285.184903</td>\n",
       "    </tr>\n",
       "    <tr>\n",
       "      <th>1980-01-05</th>\n",
       "      <td>281.610492</td>\n",
       "    </tr>\n",
       "  </tbody>\n",
       "</table>\n",
       "</div>"
      ],
      "text/plain": [
       "                  data\n",
       "time                  \n",
       "1980-01-01  283.577637\n",
       "1980-01-02  280.271443\n",
       "1980-01-03  279.143461\n",
       "1980-01-04  285.184903\n",
       "1980-01-05  281.610492"
      ]
     },
     "execution_count": 6,
     "metadata": {},
     "output_type": "execute_result"
    }
   ],
   "source": [
    "# GCM\n",
    "df_gcm = dataprocessing.da_to_df(data_gcm)\n",
    "df_gcm.head()"
   ]
  },
  {
   "cell_type": "markdown",
   "metadata": {},
   "source": [
    "## Plot example"
   ]
  },
  {
   "cell_type": "code",
   "execution_count": 14,
   "metadata": {},
   "outputs": [
    {
     "data": {
      "image/png": "[encoded data removed]",
      "text/plain": [
       "<Figure size 432x288 with 1 Axes>"
      ]
     },
     "metadata": {
      "needs_background": "light"
     },
     "output_type": "display_data"
    }
   ],
   "source": [
    "import matplotlib.pyplot as plt \n",
    "\n",
    "plt.figure()\n",
    "plt.plot(df_gcm.index, df_gcm.data, label='GCM')\n",
    "plt.plot(df_era.index, df_era.data, label='ERA')\n",
    "plt.xlabel('Time')\n",
    "plt.ylabel('Maximum Daily Temperature (K)')\n",
    "plt.legend()\n",
    "plt.show()"
   ]
  },
  {
   "cell_type": "code",
   "execution_count": null,
   "metadata": {},
   "outputs": [],
   "source": []
  }
 ],
 "metadata": {
  "kernelspec": {
   "display_name": "Python 3",
   "language": "python",
   "name": "python3"
  },
  "language_info": {
   "codemirror_mode": {
    "name": "ipython",
    "version": 3
   },
   "file_extension": ".py",
   "mimetype": "text/x-python",
   "name": "python",
   "nbconvert_exporter": "python",
   "pygments_lexer": "ipython3",
   "version": "3.6.7"
  }
 },
 "nbformat": 4,
 "nbformat_minor": 2
}

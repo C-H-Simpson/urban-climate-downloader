{
 "cells": [
  {
   "cell_type": "markdown",
   "metadata": {},
   "source": [
    "# Download timeseries climate data from cities"
   ]
  },
  {
   "cell_type": "markdown",
   "metadata": {},
   "source": [
    "This script downloads, cleans and saves timeseries data from GCM and ERA-Interim.\n",
    "\n",
    "**Requires:**\n",
    "* Baspy module https://github.com/scott-hosking/baspy\n",
    "* Run `python setup.py install` to use modules\n",
    "\n",
    "**Notes:**\n",
    "* Data is saved at /data_directory/filetype/variable_label/City_rcpX.nc (for GCM) or City_ERAI.nc (for ERA) - you can specify the parent data_directory and variable_label in settings.\n",
    "* Extracting one city for one GCM takes around 3-5 mins on JASMIN, quicker with ERA-Interim\n",
    "* Downloading GCM data (e.g. from 1980 to 2050) concatenates historical and future RCP run into one timeseries\n"
   ]
  },
  {
   "cell_type": "code",
   "execution_count": 1,
   "metadata": {},
   "outputs": [],
   "source": [
    "settings = {\n",
    "    # --------------------------- #\n",
    "    #  Location / variable        #\n",
    "    # --------------------------- #\n",
    "    # 'cities': ['London', 'NYC', 'Beijing', 'Tokyo', 'Madrid'],  # Cities to download\n",
    "    'cities': ['London', 'NYC'],\n",
    "\n",
    "    'variable_name_gcm': 'tasmax',  # GCM official variable name e.g. 'tas' (mean T), 'tasmax' (max T), 'tasmin' (min T)\n",
    "    'variable_name_era': 't2max',   # ERAI official variable name e.g. 'T2' (mean T), 't2max' (max T), 't2min' (min T)\n",
    "    'variable_label': 'max_temperature',  # Downloaded data will go in this folder; ensure accurate discription\n",
    "\n",
    "    'no_leap_years': True,   # Remove 29th Feb's to get 365-days consistent calender\n",
    "\n",
    "    # --------------------------- #\n",
    "    #  GCM                        #\n",
    "    # --------------------------- #\n",
    "    'model': 'HadGEM2-CC',  # Climate model\n",
    "    'future_rcp': ['rcp85', 'rcp45'],  # Model RCP\n",
    "    'model_start': 1980,  # Model start year (inclusive)\n",
    "    'model_end': 2050,  # Model end year (inclusive)\n",
    "\n",
    "    # --------------------------- #\n",
    "    #  ERA Interim                #\n",
    "    # --------------------------- #\n",
    "    'observed_start': 1980,  # ERA Interim start year (inclusive)\n",
    "    'observed_end': 2017,  # ERA Interim end year (inclusive)\n",
    "\n",
    "    # --------------------------- #\n",
    "    #  Saving files               #\n",
    "    # --------------------------- #\n",
    "    'save_coords': True,  # Optional: save loaded coordinates from cities\n",
    "    'filetype': 'netcdf',  # Climate data type to save 'netcdf' or 'df'\n",
    "    'data_directory': './data/riskindex/'  # Directory to save created data\n",
    "}"
   ]
  },
  {
   "cell_type": "code",
   "execution_count": 2,
   "metadata": {},
   "outputs": [],
   "source": [
    "from scripts.get1D import ClimateDataProcessing\n",
    "cd = ClimateDataProcessing(settings)"
   ]
  },
  {
   "cell_type": "markdown",
   "metadata": {},
   "source": [
    "## Download clean data for all cities in one line:"
   ]
  },
  {
   "cell_type": "markdown",
   "metadata": {},
   "source": [
    "### GCM"
   ]
  },
  {
   "cell_type": "code",
   "execution_count": null,
   "metadata": {
    "scrolled": true
   },
   "outputs": [],
   "source": [
    "cd.save_clean_gcm_data()"
   ]
  },
  {
   "cell_type": "markdown",
   "metadata": {},
   "source": [
    "### ERA-Interim"
   ]
  },
  {
   "cell_type": "code",
   "execution_count": null,
   "metadata": {},
   "outputs": [],
   "source": [
    "cd.save_clean_era_data()"
   ]
  },
  {
   "cell_type": "markdown",
   "metadata": {},
   "source": [
    "### If you want to manually specify coordinates:"
   ]
  },
  {
   "cell_type": "code",
   "execution_count": null,
   "metadata": {},
   "outputs": [],
   "source": [
    "coords = {}\n",
    "coords['Some_city1'] = {'longitude': -10, 'latitude': 20}\n",
    "coords['Some_city2'] = {'longitude': 0, 'latitude': 100}\n",
    "\n",
    "cd.save_clean_gcm_data(coords=coords)\n",
    "cd.save_clean_era_data(coords=coords)"
   ]
  },
  {
   "cell_type": "markdown",
   "metadata": {},
   "source": [
    "### Load saved data"
   ]
  },
  {
   "cell_type": "code",
   "execution_count": null,
   "metadata": {},
   "outputs": [],
   "source": [
    "da_gcm = cd.load_data_at_location(city='London', rcp=45)\n",
    "da_era = cd.load_data_at_location(city='London', model='era')"
   ]
  },
  {
   "cell_type": "code",
   "execution_count": null,
   "metadata": {},
   "outputs": [],
   "source": [
    "da_gcm"
   ]
  },
  {
   "cell_type": "code",
   "execution_count": null,
   "metadata": {},
   "outputs": [],
   "source": [
    "da_era"
   ]
  },
  {
   "cell_type": "code",
   "execution_count": null,
   "metadata": {},
   "outputs": [],
   "source": [
    "# To convert to pandas dataframe:\n",
    "from scripts import dataprocessing\n",
    "df_gcm = dataprocessing.da_to_df(da_gcm)\n",
    "df_gcm.head()"
   ]
  },
  {
   "cell_type": "markdown",
   "metadata": {},
   "source": [
    "## Behind ClimateDataProcessing"
   ]
  },
  {
   "cell_type": "code",
   "execution_count": null,
   "metadata": {},
   "outputs": [],
   "source": []
  }
 ],
 "metadata": {
  "kernelspec": {
   "display_name": "Python 3",
   "language": "python",
   "name": "python3"
  },
  "language_info": {
   "codemirror_mode": {
    "name": "ipython",
    "version": 3
   },
   "file_extension": ".py",
   "mimetype": "text/x-python",
   "name": "python",
   "nbconvert_exporter": "python",
   "pygments_lexer": "ipython3",
   "version": "3.6.8"
  }
 },
 "nbformat": 4,
 "nbformat_minor": 2
}

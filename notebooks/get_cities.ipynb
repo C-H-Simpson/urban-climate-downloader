{
 "cells": [
  {
   "cell_type": "markdown",
   "metadata": {},
   "source": [
    "# Download timeseries climate data from cities"
   ]
  },
  {
   "cell_type": "markdown",
   "metadata": {},
   "source": [
    "This script downloads, cleans and saves timeseries data from GCM and ERA-Interim on JASMIN.\n",
    "\n",
    "**Requires:**\n",
    "* Access to `/bas_climate` group workspace\n",
    "* Baspy module https://github.com/scott-hosking/baspy\n",
    "* xarray (0.11.3) e.g. `conda install xarray==0.11.3`\n",
    "* dask e.g. `conda install dask`\n",
    "* Run `python setup.py install` to run scripts\n",
    "\n",
    "**Notes:**\n",
    "* Data is saved at /data_directory/filetype/variable_label/City_rcpX.nc (for GCM) or City_ERAI.nc (for ERA) - you can specify the parent data_directory and variable_label in settings.\n",
    "* Extracting one city for one GCM takes around 3-5 mins on JASMIN, quicker with ERA-Interim\n",
    "* Downloading GCM data (e.g. from 1980 to 2050) concatenates historical and future RCP run into one timeseries\n"
   ]
  },
  {
   "cell_type": "code",
   "execution_count": 1,
   "metadata": {},
   "outputs": [],
   "source": [
    "settings = {\n",
    "    # --------------------------- #\n",
    "    #  Location / variable        #\n",
    "    # --------------------------- #\n",
    "    # 'cities': ['London', 'NYC', 'Beijing', 'Tokyo', 'Madrid'],  # Cities to download\n",
    "    'cities': ['London', 'NYC'],\n",
    "\n",
    "    'variable_name_gcm': 'tasmax',  # GCM official variable name e.g. 'tas' (mean T), 'tasmax' (max T), 'tasmin' (min T)\n",
    "    'variable_name_era': 't2max',   # ERAI official variable name e.g. 'T2' (mean T), 't2max' (max T), 't2min' (min T)\n",
    "    'variable_label': 'max_temperature',  # Downloaded data will go in this folder; ensure accurate discription\n",
    "\n",
    "    'no_leap_years': True,   # Remove 29th Feb's to get 365-days consistent calender\n",
    "\n",
    "    # --------------------------- #\n",
    "    #  GCM                        #\n",
    "    # --------------------------- #\n",
    "    'model': 'HadGEM2-CC',  # Climate model\n",
    "    'future_rcp': ['rcp85', 'rcp45'],  # Model RCP\n",
    "    'model_start': 1980,  # Model start year (inclusive)\n",
    "    'model_end': 2050,  # Model end year (inclusive)\n",
    "\n",
    "    # --------------------------- #\n",
    "    #  ERA Interim                #\n",
    "    # --------------------------- #\n",
    "    'observed_start': 1980,  # ERA Interim start year (inclusive)\n",
    "    'observed_end': 2017,  # ERA Interim end year (inclusive)\n",
    "\n",
    "    # --------------------------- #\n",
    "    #  Saving files               #\n",
    "    # --------------------------- #\n",
    "    'save_coords': True,  # Optional: save loaded coordinates from cities\n",
    "    'filetype': 'netcdf',  # Climate data type to save 'netcdf' or 'df'\n",
    "    'data_directory': '../data/riskindex/'  # Directory to save created data\n",
    "}"
   ]
  },
  {
   "cell_type": "code",
   "execution_count": 2,
   "metadata": {},
   "outputs": [],
   "source": [
    "from downloader.get1D import ClimateDataProcessing\n",
    "cd = ClimateDataProcessing(settings)"
   ]
  },
  {
   "cell_type": "markdown",
   "metadata": {},
   "source": [
    "## Download clean data for all cities in one line:"
   ]
  },
  {
   "cell_type": "markdown",
   "metadata": {},
   "source": [
    "### GCM"
   ]
  },
  {
   "cell_type": "code",
   "execution_count": 3,
   "metadata": {
    "scrolled": true
   },
   "outputs": [
    {
     "name": "stdout",
     "output_type": "stream",
     "text": [
      "Geopy found the following locations:\n",
      "* 'London': London, Greater London, England, SW1A 2DX, United Kingdom\n",
      "* 'NYC': New York, United States of America\n",
      "Saved at ../data/riskindex/coords\n",
      "You can load this later with self.load_coords(filename=coords)\n",
      "GCM settings: model = ['HadGEM2-CC'],               rcp = ['rcp85', 'rcp45'],               start = 1980,               end = 2050\n",
      "Updating cached catalogue...\n",
      "catalogue memory usage (MB): 28.786099\n",
      ">> Current cached values (can be extended by specifying additional values or by setting read_everything=True) <<\n",
      "{'Experiment': ['rcp26', 'rcp45', 'rcp85', 'piControl', 'historical'], 'Frequency': ['mon', 'day']}\n",
      "\n",
      "  Centre       Model  Experiment Frequency SubModel CMOR   RunID    Version  \\\n",
      "0   MOHC  HadGEM2-CC  historical       day    atmos  day  r1i1p1  v20110930   \n",
      "1   MOHC  HadGEM2-CC       rcp45       day    atmos  day  r1i1p1  v20120531   \n",
      "2   MOHC  HadGEM2-CC       rcp85       day    atmos  day  r1i1p1  v20120531   \n",
      "\n",
      "      Var  StartDate   EndDate  \\\n",
      "0  tasmax   18591201  20051130   \n",
      "1  tasmax   20051201  21001230   \n",
      "2  tasmax   20051201  21001230   \n",
      "\n",
      "                                                Path  \\\n",
      "0  /MOHC/HadGEM2-CC/historical/day/atmos/day/r1i1...   \n",
      "1  /MOHC/HadGEM2-CC/rcp45/day/atmos/day/r1i1p1/v2...   \n",
      "2  /MOHC/HadGEM2-CC/rcp85/day/atmos/day/r1i1p1/v2...   \n",
      "\n",
      "                                           DataFiles dataset  \n",
      "0  tasmax_day_HadGEM2-CC_historical_r1i1p1_185912...   cmip5  \n",
      "1  tasmax_day_HadGEM2-CC_rcp45_r1i1p1_20051201-20...   cmip5  \n",
      "2  tasmax_day_HadGEM2-CC_rcp85_r1i1p1_20051201-20...   cmip5  \n",
      "Loading historical data array...(1/3)\n"
     ]
    },
    {
     "name": "stderr",
     "output_type": "stream",
     "text": [
      "/home/users/risno/PYTHON/baspy/_xarray/__init__.py:10: FutureWarning: In xarray version 0.15 the default behaviour of `open_mfdataset`\n",
      "will change. To retain the existing behavior, pass\n",
      "combine='nested'. To use future default behavior, pass\n",
      "combine='by_coords'. See\n",
      "http://xarray.pydata.org/en/stable/combining.html#combining-multi\n",
      "\n",
      "  ds = xr.open_mfdataset(files)\n",
      "/home/users/risno/miniconda3/envs/urban/lib/python3.6/site-packages/xarray/backends/api.py:933: FutureWarning: The datasets supplied have global dimension coordinates. You may want\n",
      "to use the new `combine_by_coords` function (or the\n",
      "`combine='by_coords'` option to `open_mfdataset`) to order the datasets\n",
      "before concatenation. Alternatively, to continue concatenating based\n",
      "on the order the datasets are supplied in future, please use the new\n",
      "`combine_nested` function (or the `combine='nested'` option to\n",
      "open_mfdataset).\n",
      "  from_openmfds=True,\n"
     ]
    },
    {
     "name": "stdout",
     "output_type": "stream",
     "text": [
      "Loading rcp85 data array...(2/3)\n"
     ]
    },
    {
     "name": "stderr",
     "output_type": "stream",
     "text": [
      "/home/users/risno/PYTHON/baspy/_xarray/__init__.py:10: FutureWarning: In xarray version 0.15 the default behaviour of `open_mfdataset`\n",
      "will change. To retain the existing behavior, pass\n",
      "combine='nested'. To use future default behavior, pass\n",
      "combine='by_coords'. See\n",
      "http://xarray.pydata.org/en/stable/combining.html#combining-multi\n",
      "\n",
      "  ds = xr.open_mfdataset(files)\n",
      "/home/users/risno/miniconda3/envs/urban/lib/python3.6/site-packages/xarray/backends/api.py:933: FutureWarning: The datasets supplied have global dimension coordinates. You may want\n",
      "to use the new `combine_by_coords` function (or the\n",
      "`combine='by_coords'` option to `open_mfdataset`) to order the datasets\n",
      "before concatenation. Alternatively, to continue concatenating based\n",
      "on the order the datasets are supplied in future, please use the new\n",
      "`combine_nested` function (or the `combine='nested'` option to\n",
      "open_mfdataset).\n",
      "  from_openmfds=True,\n"
     ]
    },
    {
     "name": "stdout",
     "output_type": "stream",
     "text": [
      "Loading rcp45 data array...(3/3)\n"
     ]
    },
    {
     "name": "stderr",
     "output_type": "stream",
     "text": [
      "/home/users/risno/PYTHON/baspy/_xarray/__init__.py:10: FutureWarning: In xarray version 0.15 the default behaviour of `open_mfdataset`\n",
      "will change. To retain the existing behavior, pass\n",
      "combine='nested'. To use future default behavior, pass\n",
      "combine='by_coords'. See\n",
      "http://xarray.pydata.org/en/stable/combining.html#combining-multi\n",
      "\n",
      "  ds = xr.open_mfdataset(files)\n",
      "/home/users/risno/miniconda3/envs/urban/lib/python3.6/site-packages/xarray/backends/api.py:933: FutureWarning: The datasets supplied have global dimension coordinates. You may want\n",
      "to use the new `combine_by_coords` function (or the\n",
      "`combine='by_coords'` option to `open_mfdataset`) to order the datasets\n",
      "before concatenation. Alternatively, to continue concatenating based\n",
      "on the order the datasets are supplied in future, please use the new\n",
      "`combine_nested` function (or the `combine='nested'` option to\n",
      "open_mfdataset).\n",
      "  from_openmfds=True,\n"
     ]
    },
    {
     "name": "stdout",
     "output_type": "stream",
     "text": [
      "Data arrays loaded.\n",
      "Saving data for all specified cities and RCP.\n",
      "======= [London (1/2), rcp85 (1/2)] =======\n",
      "Standardising coordinates\n",
      "Rolling longitude 0/360 --> -180/180\n",
      "Coordinate extracted\n",
      "Converting to datetime64... (retrieving all values and interpolating if necessary, may take a few mins)\n",
      "Saved at ../data/riskindex/netcdf/max_temperature/London_rcp85.nc\n",
      "======= [London (1/2), rcp45 (2/2)] =======\n",
      "Standardising coordinates\n",
      "Rolling longitude 0/360 --> -180/180\n",
      "Coordinate extracted\n",
      "Converting to datetime64... (retrieving all values and interpolating if necessary, may take a few mins)\n",
      "Saved at ../data/riskindex/netcdf/max_temperature/London_rcp45.nc\n",
      "======= [NYC (2/2), rcp85 (1/2)] =======\n",
      "Standardising coordinates\n",
      "Rolling longitude 0/360 --> -180/180\n",
      "Coordinate extracted\n",
      "Converting to datetime64... (retrieving all values and interpolating if necessary, may take a few mins)\n",
      "Saved at ../data/riskindex/netcdf/max_temperature/NYC_rcp85.nc\n",
      "======= [NYC (2/2), rcp45 (2/2)] =======\n",
      "Standardising coordinates\n",
      "Rolling longitude 0/360 --> -180/180\n",
      "Coordinate extracted\n",
      "Converting to datetime64... (retrieving all values and interpolating if necessary, may take a few mins)\n",
      "Saved at ../data/riskindex/netcdf/max_temperature/NYC_rcp45.nc\n"
     ]
    }
   ],
   "source": [
    "cd.save_clean_gcm_data()"
   ]
  },
  {
   "cell_type": "markdown",
   "metadata": {},
   "source": [
    "### ERA-Interim"
   ]
  },
  {
   "cell_type": "code",
   "execution_count": 4,
   "metadata": {},
   "outputs": [
    {
     "name": "stdout",
     "output_type": "stream",
     "text": [
      "Geopy found the following locations:\n",
      "* 'London': London, Greater London, England, SW1A 2DX, United Kingdom\n",
      "* 'NYC': New York, United States of America\n",
      "Saved at ../data/riskindex/coords\n",
      "You can load this later with self.load_coords(filename=coords)\n"
     ]
    },
    {
     "name": "stderr",
     "output_type": "stream",
     "text": [
      "/home/users/risno/code/urban-climate-downloader/downloader/dataprocessing.py:89: FutureWarning: In xarray version 0.15 the default behaviour of `open_mfdataset`\n",
      "will change. To retain the existing behavior, pass\n",
      "combine='nested'. To use future default behavior, pass\n",
      "combine='by_coords'. See\n",
      "http://xarray.pydata.org/en/stable/combining.html#combining-multi\n",
      "\n",
      "  ds = xr.open_mfdataset(path, preprocess=round_coords)\n",
      "/home/users/risno/miniconda3/envs/urban/lib/python3.6/site-packages/xarray/backends/api.py:933: FutureWarning: The datasets supplied have global dimension coordinates. You may want\n",
      "to use the new `combine_by_coords` function (or the\n",
      "`combine='by_coords'` option to `open_mfdataset`) to order the datasets\n",
      "before concatenation. Alternatively, to continue concatenating based\n",
      "on the order the datasets are supplied in future, please use the new\n",
      "`combine_nested` function (or the `combine='nested'` option to\n",
      "open_mfdataset).\n",
      "  from_openmfds=True,\n"
     ]
    },
    {
     "name": "stdout",
     "output_type": "stream",
     "text": [
      "Standardising coordinates\n",
      "Elapsed time: 39.048935 seconds.\n",
      "\n",
      "ERA-Interim data loaded\n",
      "Saving data for all specified cities and RCP.\n",
      "======= [London (1/2), ERAI] =======\n",
      "Standardising coordinates\n",
      "Rolling longitude 0/360 --> -180/180\n",
      "Coordinate extracted\n",
      "Saved at ../data/riskindex/netcdf/max_temperature/London_ERAI.nc\n",
      "======= [NYC (2/2), ERAI] =======\n",
      "Standardising coordinates\n",
      "Rolling longitude 0/360 --> -180/180\n",
      "Coordinate extracted\n",
      "Saved at ../data/riskindex/netcdf/max_temperature/NYC_ERAI.nc\n"
     ]
    }
   ],
   "source": [
    "cd.save_clean_era_data()"
   ]
  },
  {
   "cell_type": "markdown",
   "metadata": {},
   "source": [
    "### If you want to manually specify coordinates:"
   ]
  },
  {
   "cell_type": "code",
   "execution_count": null,
   "metadata": {},
   "outputs": [],
   "source": [
    "coords = {}\n",
    "coords['Some_city1'] = {'longitude': -10, 'latitude': 20}\n",
    "coords['Some_city2'] = {'longitude': 0, 'latitude': 100}\n",
    "\n",
    "cd.save_clean_gcm_data(coords=coords)\n",
    "cd.save_clean_era_data(coords=coords)"
   ]
  },
  {
   "cell_type": "markdown",
   "metadata": {},
   "source": [
    "### Load saved data"
   ]
  },
  {
   "cell_type": "code",
   "execution_count": null,
   "metadata": {},
   "outputs": [],
   "source": [
    "da_gcm = cd.load_data_at_location(city='London', rcp=45)\n",
    "da_era = cd.load_data_at_location(city='London', model='era')"
   ]
  },
  {
   "cell_type": "code",
   "execution_count": null,
   "metadata": {},
   "outputs": [],
   "source": [
    "da_gcm"
   ]
  },
  {
   "cell_type": "code",
   "execution_count": null,
   "metadata": {},
   "outputs": [],
   "source": [
    "da_era"
   ]
  },
  {
   "cell_type": "code",
   "execution_count": null,
   "metadata": {},
   "outputs": [],
   "source": [
    "# To convert to pandas dataframe:\n",
    "from scripts import dataprocessing\n",
    "df_gcm = dataprocessing.da_to_df(da_gcm)\n",
    "df_gcm.head()"
   ]
  }
 ],
 "metadata": {
  "kernelspec": {
   "display_name": "Python 3",
   "language": "python",
   "name": "python3"
  },
  "language_info": {
   "codemirror_mode": {
    "name": "ipython",
    "version": 3
   },
   "file_extension": ".py",
   "mimetype": "text/x-python",
   "name": "python",
   "nbconvert_exporter": "python",
   "pygments_lexer": "ipython3",
   "version": "3.6.7"
  }
 },
 "nbformat": 4,
 "nbformat_minor": 2
}
